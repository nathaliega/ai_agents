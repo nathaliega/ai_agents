{
 "cells": [
  {
   "cell_type": "markdown",
   "metadata": {},
   "source": [
    "# Guardrails\n",
    "Guardrails are a way to validate the input and output of an Agent to insure proper usage."
   ]
  },
  {
   "cell_type": "code",
   "execution_count": 1,
   "metadata": {},
   "outputs": [],
   "source": [
    "from agents import Agent, GuardrailFunctionOutput, RunContextWrapper, Runner, TResponseInputItem, input_guardrail\n",
    "from pydantic import BaseModel\n",
    "\n",
    "class HomeworkCheatDetectionOutput(BaseModel):\n",
    "    attempting_cheat: bool\n",
    "    explanation: str\n",
    "\n",
    "homework_cheat_guardrail_agent = Agent(\n",
    "    name=\"Homework Cheat Detector\",\n",
    "    instructions=(\n",
    "        \"Determine if the user's query resembles a typical homework assignment or exam question, indicating an attempt to cheat. General questions about concepts are acceptable. \"\n",
    "        \" Cheating: 'Fill in the blank: The capital of France is ____.',\"\n",
    "        \" 'Which of the following best describes photosynthesis? A) Cellular respiration B) Conversion of light energy C) Evaporation D) Fermentation.'\"\n",
    "        \" Not-Cheating: 'What is the capital of France?', 'Explain photosynthesis.'\"\n",
    "    ),\n",
    "    output_type=HomeworkCheatDetectionOutput,\n",
    "    model=\"gpt-4o-mini\"\n",
    ")\n",
    "\n",
    "@input_guardrail\n",
    "async def cheat_detection_guardrail(\n",
    "        ctx: RunContextWrapper[None], agent: Agent, input: str | list[TResponseInputItem]\n",
    ") -> GuardrailFunctionOutput :\n",
    "    \n",
    "    detection_result = await Runner.run(homework_cheat_guardrail_agent, input)\n",
    "\n",
    "    return GuardrailFunctionOutput(\n",
    "        tripwire_triggered=detection_result.final_output.attempting_cheat,\n",
    "        output_info=detection_result.final_output\n",
    "    )\n",
    "\n",
    "study_helper_agent = Agent(\n",
    "    name=\"Study Helper Agent\",\n",
    "    instructions=\"You assist users in studying by explaining concepts or providing guidance, without directly solving homework or test questions.\",\n",
    "    model=\"gpt-4o\",\n",
    "    input_guardrails=[cheat_detection_guardrail]\n",
    ")"
   ]
  },
  {
   "cell_type": "code",
   "execution_count": 2,
   "metadata": {},
   "outputs": [
    {
     "name": "stdout",
     "output_type": "stream",
     "text": [
      "Homework cheat guardrail triggered\n",
      "Exception details: Guardrail InputGuardrail triggered tripwire\n"
     ]
    }
   ],
   "source": [
    "# This should trigger the cheat detection guardrail\n",
    "from agents import InputGuardrailTripwireTriggered\n",
    "\n",
    "\n",
    "try:\n",
    "    response = await Runner.run(study_helper_agent, \"Fill in the blank: The process of converting light energy into chemical energy is called ____.\")\n",
    "    print(\"Guardrail didn't trigger\")\n",
    "    print(\"Response: \", response.final_output)\n",
    "\n",
    "except InputGuardrailTripwireTriggered as e:\n",
    "    print(\"Homework cheat guardrail triggered\")\n",
    "    print(\"Exception details:\", str(e))"
   ]
  },
  {
   "cell_type": "code",
   "execution_count": 3,
   "metadata": {},
   "outputs": [
    {
     "name": "stdout",
     "output_type": "stream",
     "text": [
      "Guardrail didn't trigger\n",
      "Response:  The American Civil War was primarily caused by deep-seated divisions over several key issues:\n",
      "\n",
      "1. **Slavery**: The most significant cause, slavery was a deeply contentious issue, especially regarding its expansion into newly acquired territories and states. The Southern economy relied heavily on slavery, while the North was increasingly opposed to its spread.\n",
      "\n",
      "2. **States' Rights**: Southern states valued states' rights and believed they had the right to govern themselves, including making decisions about slavery, without federal interference.\n",
      "\n",
      "3. **Economic Differences**: The Northern and Southern states had stark economic differences. The North was more industrialized, while the Southern economy was mainly agricultural and dependent on slavery.\n",
      "\n",
      "4. **Political Conflicts**: There were ongoing political power struggles between the North and the South. The South feared losing political influence as new free states were added, which contributed to tensions.\n",
      "\n",
      "5. **Sectionalism**: Both regions had developed distinct cultural, social, and economic identities, which fostered mutual distrust and hostility.\n",
      "\n",
      "6. **Election of Abraham Lincoln**: Lincoln's election in 1860 was seen as a threat by the South. Although he promised not to abolish slavery where it already existed, his opposition to its expansion alarmed Southern states, leading to secession.\n",
      "\n",
      "Each of these factors interplayed, gradually leading to the secession of Southern states and the outbreak of war in 1861.\n"
     ]
    }
   ],
   "source": [
    "# This should trigger the cheat detection guardrail\n",
    "try:\n",
    "    response = await Runner.run(study_helper_agent, \"What were the main causes of the American civil war?\")\n",
    "    print(\"Guardrail didn't trigger\")\n",
    "    print(\"Response: \", response.final_output)\n",
    "\n",
    "except InputGuardrailTripwireTriggered as e:\n",
    "    print(\"Homework cheat guardrail triggered\")\n",
    "    print(\"Exception details:\", str(e))"
   ]
  },
  {
   "cell_type": "code",
   "execution_count": 4,
   "metadata": {},
   "outputs": [
    {
     "name": "stdout",
     "output_type": "stream",
     "text": [
      "Checking output for forbidden phrases: Fart! Is there something specific you need help with related to that?\n",
      "Found forbidden phrases: ['fart']\n",
      "The agent said a bad word, he is fired.\n"
     ]
    }
   ],
   "source": [
    "from pydantic import BaseModel\n",
    "from agents import (\n",
    "    Agent,\n",
    "    GuardrailFunctionOutput,\n",
    "    OutputGuardrailTripwireTriggered,\n",
    "    RunContextWrapper,\n",
    "    Runner,\n",
    "    output_guardrail,\n",
    ")\n",
    "\n",
    "class MessageOutput(BaseModel):\n",
    "    response: str\n",
    "\n",
    "@output_guardrail\n",
    "async def forbidden_words_guardrail(ctx: RunContextWrapper, agent: Agent, output: str) -> GuardrailFunctionOutput:\n",
    "    print(f\"Checking output for forbidden phrases: {output}\")\n",
    "\n",
    "    # Funny forbidden phrases to check\n",
    "    forbidden_phrases = [\"fart\", \"booger\", \"silly goose\"]\n",
    "\n",
    "    # Convert output to lowercase for case-insensitive comparison\n",
    "    output_lower = output.lower()\n",
    "\n",
    "    # Check which forbidden phrases are present in the response\n",
    "    found_phrases = [phrase for phrase in forbidden_phrases if phrase in output_lower]\n",
    "    trip_triggered = bool(found_phrases)\n",
    "\n",
    "    print(f\"Found forbidden phrases: {found_phrases}\")\n",
    "\n",
    "    return GuardrailFunctionOutput(\n",
    "        output_info={\n",
    "            \"reason\": \"Output contains forbidden phrases.\",\n",
    "            \"forbidden_phrases_found\": found_phrases,\n",
    "        },\n",
    "        tripwire_triggered=trip_triggered,\n",
    "    )\n",
    "\n",
    "agent = Agent(\n",
    "    name=\"Customer support agent\",\n",
    "    instructions=\"You are a customer support agent. You help customers with their questions.\",\n",
    "    output_guardrails=[forbidden_words_guardrail],\n",
    "    model=\"gpt-4o-mini\",\n",
    ")\n",
    "try:\n",
    "    await Runner.run(agent, \"Say the word fart\")\n",
    "    print(\"Guardrail didn't trip - this is unexpected\")\n",
    "except OutputGuardrailTripwireTriggered:\n",
    "    print(\"The agent said a bad word, he is fired.\")"
   ]
  },
  {
   "cell_type": "code",
   "execution_count": 5,
   "metadata": {},
   "outputs": [
    {
     "name": "stdout",
     "output_type": "stream",
     "text": [
      "Checking output for forbidden phrases: Hey! I'm here to help you with any questions you have. What’s on your mind?\n",
      "Found forbidden phrases: []\n",
      "Guardrail didn't trip yay\n"
     ]
    }
   ],
   "source": [
    "try:\n",
    "    await Runner.run(agent, \"Hey wassup\")\n",
    "    print(\"Guardrail didn't trip yay\")\n",
    "except OutputGuardrailTripwireTriggered:\n",
    "    print(\"The agent said a bad word, he is fired.\")"
   ]
  },
  {
   "cell_type": "code",
   "execution_count": null,
   "metadata": {},
   "outputs": [],
   "source": []
  }
 ],
 "metadata": {
  "kernelspec": {
   "display_name": ".venv",
   "language": "python",
   "name": "python3"
  },
  "language_info": {
   "codemirror_mode": {
    "name": "ipython",
    "version": 3
   },
   "file_extension": ".py",
   "mimetype": "text/x-python",
   "name": "python",
   "nbconvert_exporter": "python",
   "pygments_lexer": "ipython3",
   "version": "3.10.12"
  }
 },
 "nbformat": 4,
 "nbformat_minor": 2
}
