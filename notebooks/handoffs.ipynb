{
 "cells": [
  {
   "cell_type": "code",
   "execution_count": 1,
   "metadata": {},
   "outputs": [],
   "source": [
    "from dotenv import load_dotenv\n",
    "import os\n",
    "\n",
    "load_dotenv()\n",
    "\n",
    "api_key = os.environ.get(\"OPENAI_API_KEY\")\n",
    "if not api_key:\n",
    "    raise ValueError(\"OPENAI_API_KEY is not set in the environment variables\")"
   ]
  },
  {
   "cell_type": "code",
   "execution_count": 2,
   "metadata": {},
   "outputs": [
    {
     "name": "stdout",
     "output_type": "stream",
     "text": [
      "Here's an outline for a tutorial on \"Loops in Java\":\n",
      "\n",
      "1. **Introduction**\n",
      "   - Brief overview of why loops are used in programming.\n",
      "   - Different types of loops available in Java.\n",
      "  \n",
      "2. **For Loop**\n",
      "   - Structure and syntax of a for loop.\n",
      "   - Example: Iterating over an array.\n",
      "   - Common use cases.\n",
      "\n",
      "3. **Enhanced For Loop (For-Each)**\n",
      "   - Introduction to the for-each loop.\n",
      "   - Syntax and structure.\n",
      "   - Example: Iterating over elements in a collection or array.\n",
      "   - Benefits and limitations.\n",
      "\n",
      "4. **While Loop**\n",
      "   - Introduction and use cases.\n",
      "   - Syntax and structure.\n",
      "   - Example: Simple counter.\n",
      "   - Comparing while loop with for loop.\n",
      "\n",
      "5. **Do-While Loop**\n",
      "   - Differences between while and do-while loops.\n",
      "   - Syntax and structure.\n",
      "   - Example: A loop that guarantees at least one execution.\n",
      "   - Use cases where a do-while loop is preferable.\n",
      "\n",
      "6. **Nested Loops**\n",
      "   - Explanation of nesting loops.\n",
      "   - Example: Printing a pattern or iterating over a 2D array.\n",
      "   - Considerations for performance.\n",
      "\n",
      "7. **Loop Control Statements**\n",
      "   - **Break Statement**\n",
      "     - Explanation and use.\n",
      "     - Example: Exiting a loop when a condition is met.\n",
      "   - **Continue Statement**\n",
      "     - Explanation and use.\n",
      "     - Example: Skipping an iteration under a certain condition.\n",
      "   - **Return Statement**\n",
      "     - Explanation in the context of loops.\n",
      "  \n",
      "8. **Best Practices**\n",
      "   - Tips for writing efficient loops.\n",
      "   - Common pitfalls and how to avoid them.\n",
      "\n",
      "9. **Conclusion**\n",
      "   - Recap of key points.\n",
      "   - Encouragement to practice with different types of loops.\n",
      "\n",
      "10. **Additional Resources**\n",
      "    - Links to Java documentation and other helpful resources.\n",
      "    - Books and online courses for further learning.\n",
      "\n",
      "Shall I proceed with creating the tutorial based on this outline?\n"
     ]
    }
   ],
   "source": [
    "from agents import Agent, Runner\n",
    "from pydantic import BaseModel\n",
    "\n",
    "class Tutorial(BaseModel):\n",
    "    outline: str\n",
    "    tutorial: str\n",
    "\n",
    "tutorial_generator = Agent(\n",
    "    name=\"Tutorial Generator\",\n",
    "    handoff_description=\"Used for generating a tutorial based on an outline.\",\n",
    "    instructions=(\n",
    "        \"Given a programming topic and an outline, your job is to generate code snippets for each section of the outline.\"\n",
    "        \"Format the tutorial in Markdown using a mix of text for explanation and code snippets for examples.\"\n",
    "        \"Where it makes sense, include comments in the code snippets to further explain the code.\"\n",
    "    ),\n",
    "    output_type=Tutorial\n",
    ")\n",
    "\n",
    "outline_builder = Agent(\n",
    "    name=\"Outline Builder\",\n",
    "    instructions=(\n",
    "        \"Given a particular programming topic, your job is to help come up with a tutorial. You will do that by crafting an outline.\"\n",
    "        \"After making the outline, hand it to the tutorial generator agent.\"\n",
    "    ),\n",
    "    handoffs=[tutorial_generator]\n",
    ")\n",
    "\n",
    "tutorial_response = await Runner.run(outline_builder, \"Loops in Java\")\n",
    "print(tutorial_response.final_output)   "
   ]
  },
  {
   "cell_type": "code",
   "execution_count": 3,
   "metadata": {},
   "outputs": [],
   "source": [
    "from agents import Agent, Runner, handoff, RunContextWrapper\n",
    "\n",
    "history_tutor_agent = Agent(\n",
    "    name=\"History Tutor\",\n",
    "    handoff_description=\"Specialist agent for historical questions\",\n",
    "    instructions=\"You provide assistance with historical queries. Explain important events and context clearly.\",\n",
    ")\n",
    "\n",
    "math_tutor_agent = Agent(\n",
    "    name=\"Math Tutor\",\n",
    "    handoff_description=\"Specialist agent for math questions\",\n",
    "    instructions=\"You provide assistance with math queries. Explain your reasoning at each step and include examples\"\n",
    ")\n",
    "\n",
    "def on_math_handoff(ctx: RunContextWrapper[None]):\n",
    "    print(\"Handing off to math tutor agent\")\n",
    "\n",
    "def on_history_handoff(ctx: RunContextWrapper[None]):\n",
    "    print(\"Handing off to history tutor agent\")\n",
    "\n",
    "# This agent has the capability to handoff to either the history or math tutor agent\n",
    "triage_agent = Agent(\n",
    "    name=\"Triage Agent\",\n",
    "    instructions=\"You determine which agent to use based on the user's homework question.\" +\n",
    "    \"If neither agent is relevant, provide a general response.\",\n",
    "    handoffs=[handoff(history_tutor_agent, on_handoff=on_history_handoff), \n",
    "              handoff(math_tutor_agent, on_handoff=on_math_handoff)]\n",
    ")"
   ]
  },
  {
   "cell_type": "code",
   "execution_count": 4,
   "metadata": {},
   "outputs": [
    {
     "name": "stdout",
     "output_type": "stream",
     "text": [
      "Handing off to math tutor agent\n"
     ]
    },
    {
     "data": {
      "text/plain": [
       "\"Adding 2 and 2 is a simple arithmetic problem. Here's how you do it:\\n\\n1. **Identify the Numbers**: You have two numbers you want to add: 2 and 2.\\n\\n2. **Combine the Numbers**: When you add, you are combining these numbers to get a total. Think of it as putting two groups of two objects together.\\n\\n3. **Calculate the Sum**:\\n   - Think of it like counting: Start with 2, then count 2 more. So, 2 + 2 equals 4.\\n\\n4. **Result**: The sum of 2 and 2 is 4.\\n\\n### Example\\n\\nImagine you have 2 apples and your friend gives you 2 more apples. You would then have a total of 4 apples. \\n\\nThis simple operation is the foundation of addition, and understanding it is crucial for more complex math problems.\""
      ]
     },
     "execution_count": 4,
     "metadata": {},
     "output_type": "execute_result"
    }
   ],
   "source": [
    "result = await Runner.run(triage_agent, \"How do I add 2 and 2?\")\n",
    "result.final_output"
   ]
  },
  {
   "cell_type": "code",
   "execution_count": 5,
   "metadata": {},
   "outputs": [
    {
     "name": "stdout",
     "output_type": "stream",
     "text": [
      "Handing off to history tutor agent\n"
     ]
    },
    {
     "data": {
      "text/plain": [
       "\"World War II began on September 1, 1939, when Germany, led by Adolf Hitler, invaded Poland. This aggressive action directly violated international agreements and prompted Britain and France to declare war on Germany two days later, on September 3, 1939.\\n\\n### Key Context and Events Leading to the War:\\n\\n1. **Treaty of Versailles (1919):** After World War I, the Treaty of Versailles imposed heavy reparations and territorial losses on Germany. This caused economic hardship and resentment that fueled nationalist and militaristic sentiments.\\n\\n2. **Rise of Totalitarian Regimes:** The 1930s saw the rise of totalitarian governments in Germany, Italy, and Japan. In Germany, Adolf Hitler and the Nazi Party capitalized on economic woes and national humiliation to gain power, promoting an aggressive expansionist ideology.\\n\\n3. **Expansionist Policies:** Hitler pursued aggressive territorial expansion, starting with the reoccupation of the Rhineland in 1936, the annexation of Austria in 1938 (Anschluss), and the acquisition of the Sudetenland following the Munich Agreement in 1938.\\n\\n4. **Failure of Appeasement:** European powers, notably Britain and France, initially responded with a policy of appeasement, hoping to avoid another large-scale conflict. This approach ultimately failed as Hitler's ambitions grew unchecked.\\n\\n5. **Nazi-Soviet Pact (August 23, 1939):** Also known as the Molotov-Ribbentrop Pact, this non-aggression treaty between Nazi Germany and the Soviet Union included a secret protocol to divide Eastern Europe into spheres of influence, allowing Germany to invade Poland without fearing Soviet intervention.\\n\\nThe invasion of Poland was swift due to Germany's use of Blitzkrieg tactics, a fast-moving and coordinated attack combining air power and ground forces, leading to Poland's quick defeat. This event marked the official start of World War II as the conflict quickly expanded beyond Europe to become a global war.\""
      ]
     },
     "execution_count": 5,
     "metadata": {},
     "output_type": "execute_result"
    }
   ],
   "source": [
    "result = await Runner.run(triage_agent, \"How did WW2 start?\")\n",
    "result.final_output"
   ]
  },
  {
   "cell_type": "code",
   "execution_count": 6,
   "metadata": {},
   "outputs": [
    {
     "name": "stdout",
     "output_type": "stream",
     "text": [
      "Could you please provide more details about the event or destination for which you need ticket information?\n"
     ]
    }
   ],
   "source": [
    "from agents import function_tool\n",
    "\n",
    "class ManagerEscalation(BaseModel):\n",
    "    issue: str # the issue being escalated\n",
    "    why: str # why can you not handle it? Used for training in the future\n",
    "\n",
    "@function_tool\n",
    "def create_ticket(issue: str):\n",
    "    \"\"\"\"\n",
    "    Create a ticket in the system for an issue to be resolved.\n",
    "    \"\"\"\n",
    "    print(f\"Creating ticket for issue: {issue}\")\n",
    "    return \"Ticket created. ID: 12345\"\n",
    "    # In a real-world scenario, this would interact with a ticketing system\n",
    "\n",
    "manager_agent = Agent(\n",
    "    name=\"Manager\",\n",
    "    handoff_description=\"Handles escalated issues that require managerial attention\",\n",
    "    instructions=(\n",
    "        \"You handle escalated customer issues that the initial custom service agent could not resolve. \"\n",
    "        \"You will receive the issue and the reason for escalation. If the issue cannot be immediately resolved for the \"\n",
    "        \"customer, create a ticket in the system and inform the customer.\"\n",
    "    ),\n",
    "    tools=[create_ticket],\n",
    ")\n",
    "\n",
    "def on_manager_handoff(ctx: RunContextWrapper[None], input: ManagerEscalation):\n",
    "    print(\"Escalating to manager agent: \", input.issue)\n",
    "    print(\"Reason for escalation: \", input.why)\n",
    "\n",
    "    # here we might store the escalation in a database or log it for future reference\n",
    "\n",
    "customer_service_agent = Agent(\n",
    "    name=\"Customer Service\",\n",
    "    instructions=\"You assist customers with general inquiries and basic troubleshooting. \" +\n",
    "                 \"If the issue cannot be resolved, escalate it to the Manager along with the reason why you cannot fix the issue yourself.\",\n",
    "    handoffs=[handoff(\n",
    "        agent=manager_agent,\n",
    "        input_type=ManagerEscalation,\n",
    "        on_handoff=on_manager_handoff,\n",
    "    )]\n",
    ")\n",
    "\n",
    "result = await Runner.run(customer_service_agent, \"Hello how much are tickets?\")\n",
    "print(result.final_output)"
   ]
  },
  {
   "cell_type": "code",
   "execution_count": null,
   "metadata": {},
   "outputs": [],
   "source": []
  }
 ],
 "metadata": {
  "kernelspec": {
   "display_name": ".venv",
   "language": "python",
   "name": "python3"
  },
  "language_info": {
   "codemirror_mode": {
    "name": "ipython",
    "version": 3
   },
   "file_extension": ".py",
   "mimetype": "text/x-python",
   "name": "python",
   "nbconvert_exporter": "python",
   "pygments_lexer": "ipython3",
   "version": "3.10.12"
  }
 },
 "nbformat": 4,
 "nbformat_minor": 2
}
