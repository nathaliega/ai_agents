{
 "cells": [
  {
   "cell_type": "code",
   "execution_count": 1,
   "metadata": {},
   "outputs": [
    {
     "name": "stdout",
     "output_type": "stream",
     "text": [
      "{'content': 'Hey!', 'role': 'user'}\n",
      "{'content': 'Hey! How are you? How can I help you today?', 'role': 'assistant'}\n",
      "{'content': 'Im having a bad day', 'role': 'user'}\n",
      "{'id': 'msg_685954bbfbd081988729b37bd6a50e6f082fd5af570a2a21', 'content': [{'annotations': [], 'text': \"I'm sorry to hear that. Do you want to talk about what's going on?\", 'type': 'output_text'}], 'role': 'assistant', 'status': 'completed', 'type': 'message'}\n"
     ]
    }
   ],
   "source": [
    "from agents import Agent, Runner, TResponseInputItem\n",
    "\n",
    "simple_agent = Agent(\n",
    "    name=\"Bob\",\n",
    "    instructions=\"You are a friendly assistant. Reply concisely.\"\n",
    ")\n",
    "\n",
    "convo: list[TResponseInputItem] = [\n",
    "    {\"content\": \"Hey!\", \"role\": \"user\"},\n",
    "    {\"content\": \"Hey! How are you? How can I help you today?\", \"role\": \"assistant\"},\n",
    "    {\"content\": \"Im having a bad day\", \"role\": \"user\"}\n",
    "]\n",
    "result = await Runner.run(simple_agent, convo)\n",
    "for message in result.to_input_list():\n",
    "    print(message)"
   ]
  },
  {
   "cell_type": "code",
   "execution_count": 3,
   "metadata": {},
   "outputs": [
    {
     "name": "stdout",
     "output_type": "stream",
     "text": [
      "You are now chatting with agent Bob. Type 'exit' to end the conversation.\n",
      "You: hi\n",
      "Agent: Hello! How can I assist you today?\n",
      "You: no\n",
      "Agent: Alright! If you change your mind or need anything, feel free to let me know.\n",
      "You: exit\n",
      "Goodbye!\n"
     ]
    }
   ],
   "source": [
    "convo: list[TResponseInputItem] = []\n",
    "print(\"You are now chatting with agent Bob. Type 'exit' to end the conversation.\")\n",
    "while True:\n",
    "    user_input = input(\"You: \")\n",
    "    print(\"You: \" + user_input)\n",
    "\n",
    "    if user_input == \"exit\":\n",
    "        print(\"Goodbye!\")\n",
    "        break\n",
    "\n",
    "    convo.append({\"content\": user_input, \"role\": \"user\"})\n",
    "    result = await Runner.run(simple_agent, convo)\n",
    "\n",
    "    print(f\"Agent: {result.final_output}\")\n",
    "\n",
    "    convo = result.to_input_list()\n"
   ]
  },
  {
   "cell_type": "code",
   "execution_count": 7,
   "metadata": {},
   "outputs": [
    {
     "name": "stdout",
     "output_type": "stream",
     "text": [
      "You are now chatting with the triage agent. Type 'exit' to end the conversation.\n",
      "You: hi\n",
      "Triage Agent: Of course! What do you need help with? Is it related to a specific subject or topic?\n",
      "\n",
      "You: \n",
      "Triage Agent: Hello! How can I assist you today?\n",
      "\n",
      "You: \n",
      "Triage Agent: What would you like to talk about or need help with?\n",
      "\n",
      "You: \n",
      "Triage Agent: It seems like your message might not have gone through. Could you please try sending it again?\n",
      "\n",
      "You: exit\n",
      "Goodbye!\n"
     ]
    }
   ],
   "source": [
    "from agents import Agent, Runner, handoff, RunContextWrapper\n",
    "\n",
    "history_tutor_agent = Agent(\n",
    "    name=\"History Tutor\",\n",
    "    handoff_description=\"Specialist agent for historical questions\",\n",
    "    instructions=\"You provide assistance with historical queries. Explain important events and context clearly.\",\n",
    ")\n",
    "\n",
    "math_tutor_agent = Agent(\n",
    "    name=\"Math Tutor\",\n",
    "    handoff_description=\"Specialist agent for math questions\",\n",
    "    instructions=\"You provide assistance with math queries. Explain your reasoning at each step and include examples\"\n",
    ")\n",
    "\n",
    "def on_math_handoff(ctx: RunContextWrapper[None]):\n",
    "    print(\"Handing off to math tutor agent\")\n",
    "\n",
    "# This agent has the capability to handoff to either the history or math tutor agent\n",
    "triage_agent = Agent(\n",
    "    name=\"Triage Agent\",\n",
    "    instructions=\"You determine which agent to use based on the user's homework question.\" +\n",
    "    \"If neither agent is relevant, provide a general response.\",\n",
    "    handoffs=[history_tutor_agent, handoff(math_tutor_agent, on_handoff=on_math_handoff)]\n",
    ")\n",
    "\n",
    "convo: list[TResponseInputItem] = []\n",
    "last_agent = triage_agent\n",
    "print(\"You are now chatting with the triage agent. Type 'exit' to end the conversation.\")\n",
    "while True:\n",
    "    user_input = input(\"You: \")\n",
    "    print(\"You: \" + user_input)\n",
    "\n",
    "    if user_input == \"exit\":\n",
    "        print(\"Goodbye!\")\n",
    "        break\n",
    "\n",
    "    print(f\"{last_agent.name}: {result.final_output}\\n\")\n",
    "    convo.append({\"content\": user_input, \"role\": \"user\"})\n",
    "    result = await Runner.run(last_agent, convo)\n",
    "\n",
    "    convo = result.to_input_list()\n",
    "    last_agent = result.last_agent\n"
   ]
  },
  {
   "cell_type": "code",
   "execution_count": null,
   "metadata": {},
   "outputs": [],
   "source": []
  }
 ],
 "metadata": {
  "kernelspec": {
   "display_name": ".venv",
   "language": "python",
   "name": "python3"
  },
  "language_info": {
   "codemirror_mode": {
    "name": "ipython",
    "version": 3
   },
   "file_extension": ".py",
   "mimetype": "text/x-python",
   "name": "python",
   "nbconvert_exporter": "python",
   "pygments_lexer": "ipython3",
   "version": "3.10.12"
  }
 },
 "nbformat": 4,
 "nbformat_minor": 2
}
