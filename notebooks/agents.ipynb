{
 "cells": [
  {
   "cell_type": "markdown",
   "metadata": {},
   "source": [
    "# Agents"
   ]
  },
  {
   "cell_type": "code",
   "execution_count": 1,
   "metadata": {},
   "outputs": [],
   "source": [
    "from dotenv import load_dotenv\n",
    "import os\n",
    "\n",
    "# loads the .env file (if you have a global environment variable, you can skip this)\n",
    "load_dotenv()\n",
    "\n",
    "api_key = os.environ.get(\"OPENAI_API_KEY\")\n",
    "\n",
    "if not api_key:\n",
    "    raise ValueError(\"OPENAI_API_KEY is not set in the environment variables\")"
   ]
  },
  {
   "cell_type": "code",
   "execution_count": 2,
   "metadata": {},
   "outputs": [
    {
     "data": {
      "text/plain": [
       "'HELLO! I’M GREAT, THANK YOU! HOW ABOUT YOU?'"
      ]
     },
     "execution_count": 2,
     "metadata": {},
     "output_type": "execute_result"
    }
   ],
   "source": [
    "from agents import Agent, Runner\n",
    "\n",
    "agent = Agent(\n",
    "    name=\"Basic Agent\",\n",
    "    instructions=\"You are a helpful assistant. Respond on in all caps.\",\n",
    "    model=\"gpt-4o-mini\"\n",
    ")\n",
    "\n",
    "result = await Runner.run(agent, \"Hello! How are you?\")\n",
    "result.final_output"
   ]
  },
  {
   "cell_type": "code",
   "execution_count": 3,
   "metadata": {},
   "outputs": [
    {
     "data": {
      "text/plain": [
       "\"Why did the booger stay in school?\\n\\nBecause it couldn't stop picking up things!\""
      ]
     },
     "execution_count": 3,
     "metadata": {},
     "output_type": "execute_result"
    }
   ],
   "source": [
    "joke_agent = Agent(\n",
    "    name=\"Joke Agent\",\n",
    "    instructions=\"You are a joke teller. You are given a topic and you need to tell a joke about it.\",\n",
    ")\n",
    "\n",
    "topic = \"Boogers\"\n",
    "result = await Runner.run(joke_agent, topic)\n",
    "result.final_output"
   ]
  },
  {
   "cell_type": "code",
   "execution_count": 4,
   "metadata": {},
   "outputs": [
    {
     "name": "stdout",
     "output_type": "stream",
     "text": [
      "Original joke:\n",
      "Why did the booger apply for a job?\n",
      "\n",
      "Because it wanted to get picked!\n",
      "\n",
      "Translated joke:\n",
      "Pourquoi la crotte de nez a-t-elle postulé à un emploi ?\n",
      "\n",
      "Parce qu'elle voulait se faire choisir !\n"
     ]
    }
   ],
   "source": [
    "language_agent = Agent(\n",
    "    name=\"Language Agent\",\n",
    "    instructions=\"You are a language expert. You are given a joke and you need to rewrite it in a different language.\",\n",
    ")\n",
    "\n",
    "joke_result = await Runner.run(joke_agent, topic)\n",
    "language = \"French\"\n",
    "translated_result = await Runner.run(language_agent, f\"Translate this joke to {language}: {joke_result.final_output}\")\n",
    "print(f\"Original joke:\\n{joke_result.final_output}\\n\")\n",
    "print(f\"Translated joke:\\n{translated_result.final_output}\")"
   ]
  },
  {
   "cell_type": "markdown",
   "metadata": {},
   "source": [
    "# Structured Output\n",
    "\n",
    "Structured outputs are a way to format the output of an LLM in a structured manner. This can be useful for tasks that require specific formatting or data extraction."
   ]
  },
  {
   "cell_type": "code",
   "execution_count": 5,
   "metadata": {},
   "outputs": [],
   "source": [
    "from pydantic import BaseModel\n",
    "from agents import Agent\n",
    "\n",
    "class Recipe(BaseModel):\n",
    "    title: str\n",
    "    ingredients: list[str]\n",
    "    cooking_time: int # in minutes\n",
    "    servings: int\n",
    "\n",
    "recipe_agent = Agent(\n",
    "    name=\"Recipe Agent\", \n",
    "    instructions=(\"You are an agent for creating recipes. You will be given the name of a food and your job\"\n",
    "                  \" is to output that as an actual detailed recipe. The cooking time should be in minutes.\"),\n",
    "    output_type=Recipe\n",
    ")\n",
    "\n",
    "response = await Runner.run(recipe_agent, \"carbonara\")\n",
    "recipe = response.final_output"
   ]
  },
  {
   "cell_type": "code",
   "execution_count": 6,
   "metadata": {},
   "outputs": [
    {
     "data": {
      "text/plain": [
       "Recipe(title='Classic Spaghetti Carbonara', ingredients=['400g spaghetti', '150g pancetta or guanciale, diced', '2 large eggs', '2 large egg yolks', '100g Parmesan cheese, grated', 'Salt, to taste', 'Freshly ground black pepper, to taste', '2 cloves garlic, peeled and crushed (optional)'], cooking_time=25, servings=4)"
      ]
     },
     "execution_count": 6,
     "metadata": {},
     "output_type": "execute_result"
    }
   ],
   "source": [
    "recipe"
   ]
  },
  {
   "cell_type": "markdown",
   "metadata": {},
   "source": [
    "# Tool Calling\n",
    "Tool calling is a way to extend the capabilities of an LLM by allowing it to call external tools or APIs. This can be useful for tasks that require access to external data or services."
   ]
  },
  {
   "cell_type": "code",
   "execution_count": 7,
   "metadata": {},
   "outputs": [
    {
     "name": "stdout",
     "output_type": "stream",
     "text": [
      "Getting weather for Dallas\n",
      "Getting temperature for Dallas\n"
     ]
    },
    {
     "data": {
      "text/plain": [
       "'The weather in Dallas is sunny, and the temperature is 70 degrees.'"
      ]
     },
     "execution_count": 7,
     "metadata": {},
     "output_type": "execute_result"
    }
   ],
   "source": [
    "from agents import Agent, function_tool\n",
    "\n",
    "@function_tool\n",
    "def get_weather(city: str) -> str:\n",
    "    print(f\"Getting weather for {city}\")\n",
    "    return \"sunny\"\n",
    "\n",
    "@function_tool\n",
    "def get_temperature(city: str) -> str:\n",
    "    print(f\"Getting temperature for {city}\")\n",
    "    return \"70 degrees\"\n",
    "\n",
    "agent = Agent(\n",
    "    name=\"Weather Agent\",\n",
    "    instructions=\"You are the local weather agent. You are given a city and you need to tell the weather and temperature. For any unrelated queries, say I cant help with that.\",\n",
    "    tools=[get_weather, get_temperature]\n",
    ")\n",
    "\n",
    "result = await Runner.run(agent, \"Dallas\")\n",
    "result.final_output"
   ]
  },
  {
   "cell_type": "code",
   "execution_count": 8,
   "metadata": {},
   "outputs": [
    {
     "name": "stdout",
     "output_type": "stream",
     "text": [
      "Here are some recent developments in U.S. politics:\n",
      "\n",
      "**Rise in Political Violence**\n",
      "\n",
      "The United States is witnessing a concerning increase in political violence. Recently, Democratic Minnesota state Rep. Melissa Hortman and her husband were fatally shot, and state Sen. John Hoffman and his wife were seriously wounded by an individual impersonating a police officer. This incident is part of a broader trend, with the U.S. Capitol Police reporting nearly 9,500 threats against public officials in 2024 alone. A Reuters investigation identified at least 51 incidents of political violence from January to October 2024, marking the highest surge since the 1970s. ([time.com](https://time.com/7294891/political-violence-rise-america/?utm_source=openai))\n",
      "\n",
      "**New Visa Requirements for Foreign Students**\n",
      "\n",
      "The U.S. State Department has resumed student visa processing with a new mandate requiring applicants to make their social media accounts public for government review. This policy is part of a broader crackdown and has raised concerns among privacy and civil rights advocates. ([apnews.com](https://apnews.com/article/091f6ee8272de7d2dabf2a2753a55aab?utm_source=openai))\n",
      "\n",
      "**AI Experts Warn of Existential Risks**\n",
      "\n",
      "Leading AI experts, including Elon Musk and Anthropic CEO Dario Amodei, have expressed concerns about artificial intelligence potentially surpassing human intelligence and posing existential risks. They estimate the probability of AI-driven human extinction between 10% and 25%, emphasizing the need for oversight and safeguards. ([axios.com](https://www.axios.com/newsletters/axios-am-2a83d83a-de6d-435e-8d35-0d4e5b3fea6c?utm_source=openai))\n",
      "\n",
      "**Democratic Party's Strategy Post-Election**\n",
      "\n",
      "Following a significant electoral defeat where Donald Trump won every swing state and most counties, the Democratic Party is engaged in internal debates over the causes of their loss. Discussions focus on campaign strategies, ideological positions, and the need to reconnect with the working class. Analysts suggest emphasizing economic messages and pragmatism to rebuild the party's appeal. ([ft.com](https://www.ft.com/content/bc18210e-a02f-44a3-97c8-2b9bdf2f7e98?utm_source=openai))\n",
      "\n",
      "**Insights from 2024 Presidential Campaigns**\n",
      "\n",
      "Key advisers from the 2024 presidential campaigns of Donald Trump, Joe Biden, and Kamala Harris have shared insights into their strategies. Notably, Trump's team aimed to keep Biden on the ballot, while Biden eventually stepped aside in favor of Harris after a poor debate performance. The discussions reveal the complexities and rapid adjustments made during the election cycle. ([time.com](https://time.com/7200551/2024-election-campaign-trump-harris-biden-revelations/?utm_source=openai))\n",
      "\n",
      "**Media Reactions to Trump's Victory**\n",
      "\n",
      "The American press has offered varied analyses of Donald Trump's recent presidential victory. Some outlets attribute his win to the perceived failures of the previous administration, while others view it as a repudiation of \"woke\" policies. Concerns about deepening political polarization and the potential for unchecked power are also highlighted. ([lemonde.fr](https://www.lemonde.fr/en/international/article/2024/11/06/american-press-reacts-to-trump-s-victory-perilous-choice-for-some-repudiation-of-woke-policies-for-others_6731843_4.html?utm_source=openai))\n",
      "\n",
      "**Pentagon's Stance on Military Neutrality**\n",
      "\n",
      "U.S. Defense Secretary Lloyd Austin has assured that the Pentagon is committed to a smooth transition to the incoming Trump administration, emphasizing that the military will remain apolitical and ready to execute all lawful orders. This statement comes amid concerns about potential tensions in both domestic and international spheres. ([reuters.com](https://www.reuters.com/world/us/us-military-ready-carry-out-lawful-orders-next-trump-administration-avoid-2024-11-07/?utm_source=openai))\n",
      "\n",
      "**Public Opinion on Celebrity Political Commentary**\n",
      "\n",
      "A recent AP-NORC poll indicates that Americans prefer public figures, such as celebrities and athletes, to discuss politics less. This sentiment is particularly strong among Republicans and follows an election season characterized by frequent celebrity endorsements, which received mixed reactions from the public. ([axios.com](https://www.axios.com/2024/12/27/celebrity-endorsements-politics-poll?utm_source=openai))\n",
      "\n",
      "\n",
      "## Recent Developments in U.S. Politics:\n",
      "- [The Rise of Political Violence and Targeting of Lawmakers in the U.S.](https://time.com/7294891/political-violence-rise-america/?utm_source=openai)\n",
      "- [The Latest: US says foreign students seeking visas must unlock social media accounts](https://apnews.com/article/091f6ee8272de7d2dabf2a2753a55aab?utm_source=openai)\n",
      "- [👀 Axios AM: What if they're right?](https://www.axios.com/newsletters/axios-am-2a83d83a-de6d-435e-8d35-0d4e5b3fea6c?utm_source=openai) \n"
     ]
    }
   ],
   "source": [
    "from agents import WebSearchTool\n",
    "\n",
    "news_agent = Agent(\n",
    "    name=\"News Reporter\",\n",
    "    instructions=\"You are a news reporter. Your job is to find recent news articles on the internet about US politics.\",\n",
    "    tools=[WebSearchTool()]\n",
    ")\n",
    "\n",
    "result = await Runner.run(news_agent, \"find news\")\n",
    "print(result.final_output)"
   ]
  }
 ],
 "metadata": {
  "kernelspec": {
   "display_name": ".venv",
   "language": "python",
   "name": "python3"
  },
  "language_info": {
   "codemirror_mode": {
    "name": "ipython",
    "version": 3
   },
   "file_extension": ".py",
   "mimetype": "text/x-python",
   "name": "python",
   "nbconvert_exporter": "python",
   "pygments_lexer": "ipython3",
   "version": "3.10.12"
  }
 },
 "nbformat": 4,
 "nbformat_minor": 2
}
